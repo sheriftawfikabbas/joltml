{
 "cells": [
  {
   "cell_type": "code",
   "execution_count": null,
   "metadata": {},
   "outputs": [],
   "source": [
    "from joltml import Experiment, Xgboost, Sklearn\n",
    "import tensorflow as tf\n",
    "from sklearn.datasets import fetch_california_housing\n",
    "# Logging is done implicitly\n",
    "dataset = fetch_california_housing(as_frame=True)[\"frame\"]\n",
    "dataset = dataset.dropna()\n",
    "training_set = dataset[:16000]\n",
    "prediction_set = dataset.iloc[16000:,:-1]\n"
   ]
  },
  {
   "cell_type": "code",
   "execution_count": null,
   "metadata": {},
   "outputs": [],
   "source": [
    "import pandas as pd\n",
    "experiment = Experiment(training_set,experiment_id='trial1')\n",
    "experiment.add_models([Xgboost()])\n",
    "experiment.regression(target_names=['MedHouseVal'],splits=0.2)\n",
    "# Write results and default evaluation metrics\n",
    "y = experiment.predict(prediction_set)\n",
    "\n"
   ]
  },
  {
   "cell_type": "code",
   "execution_count": null,
   "metadata": {},
   "outputs": [],
   "source": [
    "params = {\n",
    "    'booster': {'type': 'categorical', 'values': ['gbtree', 'gblinear', 'dart']},\n",
    "    'lambda': {'type': 'float', 'minimum': 1e-8, 'maximum': 1.0},\n",
    "    'alpha': {'type': 'float', 'minimum': 1e-8, 'maximum': 1.0},\n",
    "}\n",
    "\n",
    "experiment = Experiment(training_set, experiment_id='trial1')\n",
    "experiment.add_models([Xgboost()])\n",
    "experiment.regression_optimize(\n",
    "    targets=['MedHouseVal'], splits=0.2, n_trials=10, params=params)\n",
    "# Write results and default evaluation metrics\n",
    "y = experiment.predict(prediction_set)\n"
   ]
  },
  {
   "cell_type": "code",
   "execution_count": null,
   "metadata": {},
   "outputs": [],
   "source": [
    "experiment = Experiment(training_set)\n",
    "y = experiment.add_models([Xgboost()]).regression(targets=['MedHouseVal'], splits=[0.8,0.2]).predict(prediction_set)"
   ]
  },
  {
   "cell_type": "code",
   "execution_count": null,
   "metadata": {},
   "outputs": [],
   "source": [
    "from sklearn.linear_model import ElasticNet\n",
    "experiment = Experiment(training_set)\n",
    "y = experiment.add_models([Sklearn(ElasticNet())]).regression(targets=['MedHouseVal'],splits=[0.8,0.2]).predict(prediction_set)"
   ]
  },
  {
   "cell_type": "code",
   "execution_count": null,
   "metadata": {},
   "outputs": [],
   "source": [
    "from sklearn.linear_model import ElasticNet, LinearRegression, Lasso\n",
    "\n",
    "experiment = Experiment(training_set, experiment_id=\"trial1\")\n",
    "y = experiment.add_models([Xgboost(),\n",
    "                           Sklearn(ElasticNet()),\n",
    "                           Sklearn(LinearRegression()),\n",
    "                           Sklearn(Lasso()),\n",
    "                           ]).regression(targets=['MedHouseVal'],splits=[0.8, 0.2]).predict(prediction_set)\n"
   ]
  },
  {
   "cell_type": "code",
   "execution_count": null,
   "metadata": {},
   "outputs": [],
   "source": [
    "from sklearn.linear_model import ElasticNet,\\\n",
    "LinearRegression, Ridge, RidgeCV, SGDRegressor, Lars, Lasso,\\\n",
    "LassoLars, ARDRegression, HuberRegressor, QuantileRegressor,\\\n",
    "RANSACRegressor, TheilSenRegressor\n",
    "\n",
    "experiment = Experiment(training_set, experiment_id=\"trial1\")\n",
    "y = experiment.add_models([Xgboost(),\n",
    "                           Sklearn(ElasticNet()),\n",
    "                           Sklearn(LinearRegression()),\n",
    "                           Sklearn(Ridge()),\n",
    "                           Sklearn(RidgeCV()),\n",
    "                           Sklearn(SGDRegressor()),\n",
    "                           Sklearn(Lars()),\n",
    "                           Sklearn(Lasso()),\n",
    "                           Sklearn(LassoLars()),\n",
    "                           Sklearn(ARDRegression()),\n",
    "                           Sklearn(HuberRegressor()),\n",
    "                           Sklearn(QuantileRegressor()),\n",
    "                           Sklearn(RANSACRegressor()),\n",
    "                           Sklearn(TheilSenRegressor())]).regression_on(\n",
    "    targets=['MedHouseVal']).fit(splits=0.2).predict(prediction_set)\n"
   ]
  },
  {
   "cell_type": "code",
   "execution_count": null,
   "metadata": {},
   "outputs": [],
   "source": [
    "from joltml import Experiment, Pytorch\n",
    "import torch\n",
    "import torch.nn as nn\n",
    "import pandas as pd\n",
    "\n",
    "a = 1\n",
    "b = 0.5\n",
    "\n",
    "X = torch.linspace(0,10,1000)\n",
    "y = a * X + b\n",
    "\n",
    "data = pd.DataFrame(zip(X,y),columns=['X','y'])\n",
    "training_set = data.iloc[:800]\n",
    "prediction_set = data.iloc[800:,:-1]\n",
    "\n",
    "class RegressionModel(nn.Module):\n",
    "    def __init__(self):\n",
    "        super().__init__()\n",
    "        self.a = nn.Parameter(torch.randn(\n",
    "            1, dtype=torch.float), requires_grad=True)\n",
    "        self.b = nn.Parameter(torch.randn(\n",
    "            1, dtype=torch.float), requires_grad=True)\n",
    "\n",
    "    # <- \"x\" is the input data (e.g. training/testing features)\n",
    "    def forward(self, x: torch.Tensor) -> torch.Tensor:\n",
    "        return self.a*x + self.b\n",
    "\n",
    "\n",
    "experiment = Experiment(training_set)\n",
    "y = experiment.add_models([Pytorch(RegressionModel())]).regression(\n",
    "    targets=['y'], splits=[0.8, 0.2]).predict(prediction_set)\n"
   ]
  },
  {
   "cell_type": "code",
   "execution_count": null,
   "metadata": {},
   "outputs": [],
   "source": [
    "from joltml import Experiment, Pytorch\n",
    "import torch.nn as nn\n",
    "import numpy as np\n",
    "from sklearn.datasets import fetch_california_housing\n",
    "# Logging is done implicitly\n",
    "dataset = fetch_california_housing(as_frame=True)[\"frame\"]\n",
    "dataset = dataset.dropna()\n",
    "dataset.astype(np.float32)\n",
    "dataset = dataset.sample(frac=1)\n",
    "training_size = int(0.9*len(dataset))\n",
    "training_set = dataset[:training_size]\n",
    "prediction_set = dataset.iloc[training_size:,:-1]\n",
    "prediction_y = dataset.iloc[training_size:,-1]\n",
    "\n",
    "model = nn.Sequential(\n",
    "    nn.Linear(training_set.shape[1]-1, 24),\n",
    "    nn.ReLU(),\n",
    "    nn.Linear(24, 12),\n",
    "    nn.ReLU(),\n",
    "    nn.Linear(12, 6),\n",
    "    nn.ReLU(),\n",
    "    nn.Linear(6, 1)\n",
    ")\n",
    "\n",
    "experiment = Experiment(training_set)\n",
    "y = experiment.add_models([Pytorch(model)]).regression(\n",
    "    targets=['MedHouseVal'], splits=[0.8, 0.2]).predict(prediction_set)\n",
    "from joltml.joltmeter import RegressionMetrics\n",
    "print(RegressionMetrics.mean_absolute_error.evaluate(y[0].detach().numpy(),prediction_y))"
   ]
  }
 ],
 "metadata": {
  "kernelspec": {
   "display_name": "Python 3",
   "language": "python",
   "name": "python3"
  },
  "language_info": {
   "codemirror_mode": {
    "name": "ipython",
    "version": 3
   },
   "file_extension": ".py",
   "mimetype": "text/x-python",
   "name": "python",
   "nbconvert_exporter": "python",
   "pygments_lexer": "ipython3",
   "version": "3.10.11"
  },
  "orig_nbformat": 4
 },
 "nbformat": 4,
 "nbformat_minor": 2
}

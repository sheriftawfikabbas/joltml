{
 "cells": [
  {
   "cell_type": "code",
   "execution_count": null,
   "metadata": {},
   "outputs": [],
   "source": [
    "import matplotlib.pyplot as plt\n",
    "dataset = []\n",
    "for i in range(X.shape[1]):\n",
    "    std = X[:, i].std()\n",
    "    mean = X[:, i].mean()\n",
    "    sample = np.random.normal(loc=mean*10, scale=std*10, size=5000)\n",
    "    dataset += [sample]\n",
    "\n",
    "dataset = np.array(dataset)\n",
    "dataset = dataset.transpose()\n",
    "\n",
    "y = model.predict(dataset)\n",
    "y.sort(0)\n",
    "\n",
    "plt.figure(figsize=(10, 10))\n",
    "plt.plot(y)\n",
    "plt.savefig('y', bbox_inches='tight')\n"
   ]
  }
 ],
 "metadata": {
  "language_info": {
   "name": "python"
  },
  "orig_nbformat": 4
 },
 "nbformat": 4,
 "nbformat_minor": 2
}
